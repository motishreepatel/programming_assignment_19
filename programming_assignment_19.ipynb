{
 "cells": [
  {
   "cell_type": "code",
   "execution_count": 1,
   "metadata": {},
   "outputs": [
    {
     "name": "stdout",
     "output_type": "stream",
     "text": [
      "SSttrriinngg\n"
     ]
    }
   ],
   "source": [
    "#Q - #Question1: Create a function that takes a string and returns a string in which each character is repeated once.\n",
    "#Answer:\n",
    "def repeat_characters(string):\n",
    "    repeated_string = ''\n",
    "    for char in string:\n",
    "        repeated_string += char * 2\n",
    "    return repeated_string\n",
    "\n",
    "input_string = 'String'\n",
    "result = repeat_characters(input_string)\n",
    "print(result)\n"
   ]
  },
  {
   "cell_type": "code",
   "execution_count": 3,
   "metadata": {},
   "outputs": [
    {
     "name": "stdout",
     "output_type": "stream",
     "text": [
      "False\n",
      "True\n",
      "boolean expected\n",
      "boolean expected\n",
      "boolean expected\n"
     ]
    }
   ],
   "source": [
    "#Q - Question2\n",
    "'''Create a function that reverses a boolean value and returns the string &quot;boolean expected&quot;\n",
    "if another variable type is given.'''  \n",
    "#Answer:\n",
    "def reverse_boolean(value):\n",
    "    if isinstance(value, bool):\n",
    "        return not value\n",
    "    else:\n",
    "        return \"boolean expected\"\n",
    "\n",
    "print(reverse_boolean(True))    \n",
    "print(reverse_boolean(False))   \n",
    "print(reverse_boolean(0))       \n",
    "print(reverse_boolean(\"True\"))  \n",
    "print(reverse_boolean(None)) \n",
    "\n"
   ]
  },
  {
   "cell_type": "code",
   "execution_count": 5,
   "metadata": {},
   "outputs": [
    {
     "name": "stdout",
     "output_type": "stream",
     "text": [
      "The thickness of the paper after 4 folds is 0.008 meters.\n"
     ]
    }
   ],
   "source": [
    "#Q - Question3: \n",
    "'''Create a function that returns the thickness (in meters) of a piece of paper after folding it n\n",
    "number of times. The paper starts off with a thickness of 0.5mm.'''  \n",
    "\n",
    "#Answer:\n",
    "def calculate_paper_thickness(fold_count):\n",
    "    thickness_mm = 0.5\n",
    "    for _ in range(fold_count):\n",
    "        thickness_mm *= 2\n",
    "    thickness_m = thickness_mm / 1000\n",
    "    return thickness_m\n",
    "folds = 4\n",
    "thickness = calculate_paper_thickness(folds)\n",
    "print(f\"The thickness of the paper after {folds} folds is {thickness} meters.\")\n"
   ]
  },
  {
   "cell_type": "code",
   "execution_count": 6,
   "metadata": {},
   "outputs": [
    {
     "name": "stdout",
     "output_type": "stream",
     "text": [
      "[1, 3, 5]\n"
     ]
    }
   ],
   "source": [
    "#Q - #Question 4: \n",
    "'''Create a function that takes a single string as argument and returns an ordered list containing\n",
    "the indices of all capital letters in the string.'''  \n",
    "#Answer:\n",
    "def find_capital_indices(string):\n",
    "    capital_indices = []\n",
    "    for index, char in enumerate(string):\n",
    "        if char.isupper():\n",
    "            capital_indices.append(index)\n",
    "    return capital_indices\n",
    "\n",
    "input_string = \"eDaBiT\"\n",
    "indices = find_capital_indices(input_string)\n",
    "print(indices)\n"
   ]
  },
  {
   "cell_type": "code",
   "execution_count": 7,
   "metadata": {},
   "outputs": [
    {
     "name": "stdout",
     "output_type": "stream",
     "text": [
      "[2, 4, 6, 8]\n"
     ]
    }
   ],
   "source": [
    "#Q - QUESTION5: Using list comprehensions, create a function that finds all even numbers from 1 to the given number.\n",
    "#aNSWER:\n",
    "def find_even_numbers(n):\n",
    "    even_numbers = [x for x in range(1, n+1) if x % 2 == 0]\n",
    "    return even_numbers\n",
    "\n",
    "given_number = 8\n",
    "even_numbers = find_even_numbers(given_number)\n",
    "print(even_numbers)\n",
    "\n"
   ]
  },
  {
   "cell_type": "code",
   "execution_count": null,
   "metadata": {},
   "outputs": [],
   "source": []
  }
 ],
 "metadata": {
  "kernelspec": {
   "display_name": "Python 3.9.6 64-bit",
   "language": "python",
   "name": "python3"
  },
  "language_info": {
   "codemirror_mode": {
    "name": "ipython",
    "version": 3
   },
   "file_extension": ".py",
   "mimetype": "text/x-python",
   "name": "python",
   "nbconvert_exporter": "python",
   "pygments_lexer": "ipython3",
   "version": "3.9.6"
  },
  "orig_nbformat": 4,
  "vscode": {
   "interpreter": {
    "hash": "31f2aee4e71d21fbe5cf8b01ff0e069b9275f58929596ceb00d14d90e3e16cd6"
   }
  }
 },
 "nbformat": 4,
 "nbformat_minor": 2
}
